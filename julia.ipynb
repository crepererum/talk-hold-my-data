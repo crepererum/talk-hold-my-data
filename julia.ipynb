{
 "cells": [
  {
   "cell_type": "markdown",
   "metadata": {},
   "source": [
    "# Hold My Data\n",
    "\n",
    "<img src=\"img/julia.svg\" width=\"400px\" style=\"margin-left: 0;\" />"
   ]
  },
  {
   "cell_type": "markdown",
   "metadata": {},
   "source": [
    "## Setup"
   ]
  },
  {
   "cell_type": "code",
   "execution_count": 1,
   "metadata": {},
   "outputs": [],
   "source": [
    "using Feather\n",
    "using DataFrames\n",
    "using DataFramesMeta"
   ]
  },
  {
   "cell_type": "markdown",
   "metadata": {},
   "source": [
    "## Read Feather"
   ]
  },
  {
   "cell_type": "code",
   "execution_count": 2,
   "metadata": {},
   "outputs": [
    {
     "data": {
      "text/html": [
       "<table class=\"data-frame\"><thead><tr><th></th><th>Code</th><th>Name</th><th>Sector</th><th>Year</th><th>Emissions</th><th>Bad</th></tr><tr><th></th><th>String</th><th>String</th><th>String</th><th>Int64</th><th>Float64</th><th>Bool</th></tr></thead><tbody><p>48,598 rows × 6 columns</p><tr><th>1</th><td>AFG</td><td>Afghanistan</td><td>Transport</td><td>1970</td><td>503.471</td><td>false</td></tr><tr><th>2</th><td>AFG</td><td>Afghanistan</td><td>Other industrial combustion</td><td>1970</td><td>128.944</td><td>false</td></tr><tr><th>3</th><td>AFG</td><td>Afghanistan</td><td>Buildings</td><td>1970</td><td>641.589</td><td>false</td></tr><tr><th>4</th><td>AFG</td><td>Afghanistan</td><td>Non-combustion</td><td>1970</td><td>457.826</td><td>false</td></tr><tr><th>5</th><td>AFG</td><td>Afghanistan</td><td>Power Industry</td><td>1970</td><td>10.4453</td><td>false</td></tr><tr><th>6</th><td>ALB</td><td>Albania</td><td>Transport</td><td>1970</td><td>726.045</td><td>false</td></tr><tr><th>7</th><td>ALB</td><td>Albania</td><td>Other industrial combustion</td><td>1970</td><td>1472.33</td><td>false</td></tr><tr><th>8</th><td>ALB</td><td>Albania</td><td>Buildings</td><td>1970</td><td>992.68</td><td>false</td></tr><tr><th>9</th><td>ALB</td><td>Albania</td><td>Non-combustion</td><td>1970</td><td>545.125</td><td>false</td></tr><tr><th>10</th><td>ALB</td><td>Albania</td><td>Power Industry</td><td>1970</td><td>698.291</td><td>false</td></tr><tr><th>11</th><td>DZA</td><td>Algeria</td><td>Non-combustion</td><td>1970</td><td>9035.82</td><td>false</td></tr><tr><th>12</th><td>DZA</td><td>Algeria</td><td>Transport</td><td>1970</td><td>2661.08</td><td>false</td></tr><tr><th>13</th><td>DZA</td><td>Algeria</td><td>Other industrial combustion</td><td>1970</td><td>2476.46</td><td>false</td></tr><tr><th>14</th><td>DZA</td><td>Algeria</td><td>Power Industry</td><td>1970</td><td>1645.87</td><td>false</td></tr><tr><th>15</th><td>DZA</td><td>Algeria</td><td>Buildings</td><td>1970</td><td>1811.36</td><td>false</td></tr><tr><th>16</th><td>AGO</td><td>Angola</td><td>Non-combustion</td><td>1970</td><td>6460.93</td><td>false</td></tr><tr><th>17</th><td>AGO</td><td>Angola</td><td>Transport</td><td>1970</td><td>1026.25</td><td>false</td></tr><tr><th>18</th><td>AGO</td><td>Angola</td><td>Other industrial combustion</td><td>1970</td><td>333.76</td><td>false</td></tr><tr><th>19</th><td>AGO</td><td>Angola</td><td>Buildings</td><td>1970</td><td>120.17</td><td>false</td></tr><tr><th>20</th><td>AGO</td><td>Angola</td><td>Power Industry</td><td>1970</td><td>137.546</td><td>false</td></tr><tr><th>21</th><td>AIA</td><td>Anguilla</td><td>Transport</td><td>1970</td><td>1.61843</td><td>false</td></tr><tr><th>22</th><td>AIA</td><td>Anguilla</td><td>Other industrial combustion</td><td>1970</td><td>0.108991</td><td>false</td></tr><tr><th>23</th><td>AIA</td><td>Anguilla</td><td>Power Industry</td><td>1970</td><td>0.42995</td><td>false</td></tr><tr><th>24</th><td>AIA</td><td>Anguilla</td><td>Non-combustion</td><td>1970</td><td>0.0</td><td>false</td></tr><tr><th>25</th><td>AIA</td><td>Anguilla</td><td>Buildings</td><td>1970</td><td>0.010636</td><td>false</td></tr><tr><th>26</th><td>ATG</td><td>Antigua and Barbuda</td><td>Power Industry</td><td>1970</td><td>51.4055</td><td>false</td></tr><tr><th>27</th><td>ATG</td><td>Antigua and Barbuda</td><td>Buildings</td><td>1970</td><td>88.5346</td><td>false</td></tr><tr><th>28</th><td>ATG</td><td>Antigua and Barbuda</td><td>Transport</td><td>1970</td><td>6.08049</td><td>false</td></tr><tr><th>29</th><td>ATG</td><td>Antigua and Barbuda</td><td>Other industrial combustion</td><td>1970</td><td>1.03064</td><td>false</td></tr><tr><th>30</th><td>ATG</td><td>Antigua and Barbuda</td><td>Non-combustion</td><td>1970</td><td>0.514528</td><td>false</td></tr><tr><th>&vellip;</th><td>&vellip;</td><td>&vellip;</td><td>&vellip;</td><td>&vellip;</td><td>&vellip;</td><td>&vellip;</td></tr></tbody></table>"
      ],
      "text/latex": [
       "\\begin{tabular}{r|cccccc}\n",
       "\t& Code & Name & Sector & Year & Emissions & Bad\\\\\n",
       "\t\\hline\n",
       "\t& String & String & String & Int64 & Float64 & Bool\\\\\n",
       "\t\\hline\n",
       "\t1 & AFG & Afghanistan & Transport & 1970 & 503.471 & false \\\\\n",
       "\t2 & AFG & Afghanistan & Other industrial combustion & 1970 & 128.944 & false \\\\\n",
       "\t3 & AFG & Afghanistan & Buildings & 1970 & 641.589 & false \\\\\n",
       "\t4 & AFG & Afghanistan & Non-combustion & 1970 & 457.826 & false \\\\\n",
       "\t5 & AFG & Afghanistan & Power Industry & 1970 & 10.4453 & false \\\\\n",
       "\t6 & ALB & Albania & Transport & 1970 & 726.045 & false \\\\\n",
       "\t7 & ALB & Albania & Other industrial combustion & 1970 & 1472.33 & false \\\\\n",
       "\t8 & ALB & Albania & Buildings & 1970 & 992.68 & false \\\\\n",
       "\t9 & ALB & Albania & Non-combustion & 1970 & 545.125 & false \\\\\n",
       "\t10 & ALB & Albania & Power Industry & 1970 & 698.291 & false \\\\\n",
       "\t11 & DZA & Algeria & Non-combustion & 1970 & 9035.82 & false \\\\\n",
       "\t12 & DZA & Algeria & Transport & 1970 & 2661.08 & false \\\\\n",
       "\t13 & DZA & Algeria & Other industrial combustion & 1970 & 2476.46 & false \\\\\n",
       "\t14 & DZA & Algeria & Power Industry & 1970 & 1645.87 & false \\\\\n",
       "\t15 & DZA & Algeria & Buildings & 1970 & 1811.36 & false \\\\\n",
       "\t16 & AGO & Angola & Non-combustion & 1970 & 6460.93 & false \\\\\n",
       "\t17 & AGO & Angola & Transport & 1970 & 1026.25 & false \\\\\n",
       "\t18 & AGO & Angola & Other industrial combustion & 1970 & 333.76 & false \\\\\n",
       "\t19 & AGO & Angola & Buildings & 1970 & 120.17 & false \\\\\n",
       "\t20 & AGO & Angola & Power Industry & 1970 & 137.546 & false \\\\\n",
       "\t21 & AIA & Anguilla & Transport & 1970 & 1.61843 & false \\\\\n",
       "\t22 & AIA & Anguilla & Other industrial combustion & 1970 & 0.108991 & false \\\\\n",
       "\t23 & AIA & Anguilla & Power Industry & 1970 & 0.42995 & false \\\\\n",
       "\t24 & AIA & Anguilla & Non-combustion & 1970 & 0.0 & false \\\\\n",
       "\t25 & AIA & Anguilla & Buildings & 1970 & 0.010636 & false \\\\\n",
       "\t26 & ATG & Antigua and Barbuda & Power Industry & 1970 & 51.4055 & false \\\\\n",
       "\t27 & ATG & Antigua and Barbuda & Buildings & 1970 & 88.5346 & false \\\\\n",
       "\t28 & ATG & Antigua and Barbuda & Transport & 1970 & 6.08049 & false \\\\\n",
       "\t29 & ATG & Antigua and Barbuda & Other industrial combustion & 1970 & 1.03064 & false \\\\\n",
       "\t30 & ATG & Antigua and Barbuda & Non-combustion & 1970 & 0.514528 & false \\\\\n",
       "\t$\\dots$ & $\\dots$ & $\\dots$ & $\\dots$ & $\\dots$ & $\\dots$ & $\\dots$ \\\\\n",
       "\\end{tabular}\n"
      ],
      "text/plain": [
       "48598×6 DataFrame. Omitted printing of 2 columns\n",
       "│ Row   │ Code   │ Name        │ Sector                      │ Year  │\n",
       "│       │ \u001b[90mString\u001b[39m │ \u001b[90mString\u001b[39m      │ \u001b[90mString\u001b[39m                      │ \u001b[90mInt64\u001b[39m │\n",
       "├───────┼────────┼─────────────┼─────────────────────────────┼───────┤\n",
       "│ 1     │ AFG    │ Afghanistan │ Transport                   │ 1970  │\n",
       "│ 2     │ AFG    │ Afghanistan │ Other industrial combustion │ 1970  │\n",
       "│ 3     │ AFG    │ Afghanistan │ Buildings                   │ 1970  │\n",
       "│ 4     │ AFG    │ Afghanistan │ Non-combustion              │ 1970  │\n",
       "│ 5     │ AFG    │ Afghanistan │ Power Industry              │ 1970  │\n",
       "│ 6     │ ALB    │ Albania     │ Transport                   │ 1970  │\n",
       "│ 7     │ ALB    │ Albania     │ Other industrial combustion │ 1970  │\n",
       "│ 8     │ ALB    │ Albania     │ Buildings                   │ 1970  │\n",
       "│ 9     │ ALB    │ Albania     │ Non-combustion              │ 1970  │\n",
       "│ 10    │ ALB    │ Albania     │ Power Industry              │ 1970  │\n",
       "⋮\n",
       "│ 48588 │ YEM    │ Yemen       │ Non-combustion              │ 2016  │\n",
       "│ 48589 │ ZMB    │ Zambia      │ Other industrial combustion │ 2016  │\n",
       "│ 48590 │ ZMB    │ Zambia      │ Transport                   │ 2016  │\n",
       "│ 48591 │ ZMB    │ Zambia      │ Non-combustion              │ 2016  │\n",
       "│ 48592 │ ZMB    │ Zambia      │ Buildings                   │ 2016  │\n",
       "│ 48593 │ ZMB    │ Zambia      │ Power Industry              │ 2016  │\n",
       "│ 48594 │ ZWE    │ Zimbabwe    │ Power Industry              │ 2016  │\n",
       "│ 48595 │ ZWE    │ Zimbabwe    │ Other industrial combustion │ 2016  │\n",
       "│ 48596 │ ZWE    │ Zimbabwe    │ Buildings                   │ 2016  │\n",
       "│ 48597 │ ZWE    │ Zimbabwe    │ Transport                   │ 2016  │\n",
       "│ 48598 │ ZWE    │ Zimbabwe    │ Non-combustion              │ 2016  │"
      ]
     },
     "execution_count": 2,
     "metadata": {},
     "output_type": "execute_result"
    }
   ],
   "source": [
    "df = Feather.read(\"data/emissions.feather\")"
   ]
  },
  {
   "cell_type": "markdown",
   "metadata": {},
   "source": [
    "## Data Processing"
   ]
  },
  {
   "cell_type": "code",
   "execution_count": 3,
   "metadata": {},
   "outputs": [
    {
     "data": {
      "text/html": [
       "<table class=\"data-frame\"><thead><tr><th></th><th>Name</th><th>Emissions_sum</th></tr><tr><th></th><th>String</th><th>Float64</th></tr></thead><tbody><p>212 rows × 2 columns</p><tr><th>1</th><td>Afghanistan</td><td>1.53312e5</td></tr><tr><th>2</th><td>Albania</td><td>2.2831e5</td></tr><tr><th>3</th><td>Algeria</td><td>3.64081e6</td></tr><tr><th>4</th><td>Angola</td><td>697696.0</td></tr><tr><th>5</th><td>Anguilla</td><td>531.389</td></tr><tr><th>6</th><td>Antigua and Barbuda</td><td>12267.0</td></tr><tr><th>7</th><td>Argentina</td><td>6.14297e6</td></tr><tr><th>8</th><td>Armenia</td><td>4.88083e5</td></tr><tr><th>9</th><td>Aruba</td><td>11453.7</td></tr><tr><th>10</th><td>Australia</td><td>1.4195e7</td></tr><tr><th>11</th><td>Austria</td><td>3.05478e6</td></tr><tr><th>12</th><td>Azerbaijan</td><td>1.9128e6</td></tr><tr><th>13</th><td>Bahamas (the)</td><td>1.37022e5</td></tr><tr><th>14</th><td>Bahrain</td><td>6.16519e5</td></tr><tr><th>15</th><td>Bangladesh</td><td>1.15841e6</td></tr><tr><th>16</th><td>Barbados</td><td>45591.1</td></tr><tr><th>17</th><td>Belarus</td><td>3.70388e6</td></tr><tr><th>18</th><td>Belgium</td><td>5.5569e6</td></tr><tr><th>19</th><td>Belize</td><td>26593.1</td></tr><tr><th>20</th><td>Benin</td><td>87930.6</td></tr><tr><th>21</th><td>Bermuda</td><td>20968.0</td></tr><tr><th>22</th><td>Bhutan</td><td>37025.8</td></tr><tr><th>23</th><td>Bolivia (Plurinational State of)</td><td>4.0003e5</td></tr><tr><th>24</th><td>Bosnia and Herzegovina</td><td>8.37356e5</td></tr><tr><th>25</th><td>Botswana</td><td>1.39893e5</td></tr><tr><th>26</th><td>Brazil</td><td>1.27961e7</td></tr><tr><th>27</th><td>Brunei Darussalam</td><td>2.10428e5</td></tr><tr><th>28</th><td>Bulgaria</td><td>3.16123e6</td></tr><tr><th>29</th><td>Burkina Faso</td><td>53071.8</td></tr><tr><th>30</th><td>Burundi</td><td>26785.5</td></tr><tr><th>&vellip;</th><td>&vellip;</td><td>&vellip;</td></tr></tbody></table>"
      ],
      "text/latex": [
       "\\begin{tabular}{r|cc}\n",
       "\t& Name & Emissions\\_sum\\\\\n",
       "\t\\hline\n",
       "\t& String & Float64\\\\\n",
       "\t\\hline\n",
       "\t1 & Afghanistan & 1.53312e5 \\\\\n",
       "\t2 & Albania & 2.2831e5 \\\\\n",
       "\t3 & Algeria & 3.64081e6 \\\\\n",
       "\t4 & Angola & 697696.0 \\\\\n",
       "\t5 & Anguilla & 531.389 \\\\\n",
       "\t6 & Antigua and Barbuda & 12267.0 \\\\\n",
       "\t7 & Argentina & 6.14297e6 \\\\\n",
       "\t8 & Armenia & 4.88083e5 \\\\\n",
       "\t9 & Aruba & 11453.7 \\\\\n",
       "\t10 & Australia & 1.4195e7 \\\\\n",
       "\t11 & Austria & 3.05478e6 \\\\\n",
       "\t12 & Azerbaijan & 1.9128e6 \\\\\n",
       "\t13 & Bahamas (the) & 1.37022e5 \\\\\n",
       "\t14 & Bahrain & 6.16519e5 \\\\\n",
       "\t15 & Bangladesh & 1.15841e6 \\\\\n",
       "\t16 & Barbados & 45591.1 \\\\\n",
       "\t17 & Belarus & 3.70388e6 \\\\\n",
       "\t18 & Belgium & 5.5569e6 \\\\\n",
       "\t19 & Belize & 26593.1 \\\\\n",
       "\t20 & Benin & 87930.6 \\\\\n",
       "\t21 & Bermuda & 20968.0 \\\\\n",
       "\t22 & Bhutan & 37025.8 \\\\\n",
       "\t23 & Bolivia (Plurinational State of) & 4.0003e5 \\\\\n",
       "\t24 & Bosnia and Herzegovina & 8.37356e5 \\\\\n",
       "\t25 & Botswana & 1.39893e5 \\\\\n",
       "\t26 & Brazil & 1.27961e7 \\\\\n",
       "\t27 & Brunei Darussalam & 2.10428e5 \\\\\n",
       "\t28 & Bulgaria & 3.16123e6 \\\\\n",
       "\t29 & Burkina Faso & 53071.8 \\\\\n",
       "\t30 & Burundi & 26785.5 \\\\\n",
       "\t$\\dots$ & $\\dots$ & $\\dots$ \\\\\n",
       "\\end{tabular}\n"
      ],
      "text/plain": [
       "212×2 DataFrame\n",
       "│ Row │ Name                               │ Emissions_sum │\n",
       "│     │ \u001b[90mString\u001b[39m                             │ \u001b[90mFloat64\u001b[39m       │\n",
       "├─────┼────────────────────────────────────┼───────────────┤\n",
       "│ 1   │ Afghanistan                        │ 1.53312e5     │\n",
       "│ 2   │ Albania                            │ 2.2831e5      │\n",
       "│ 3   │ Algeria                            │ 3.64081e6     │\n",
       "│ 4   │ Angola                             │ 697696.0      │\n",
       "│ 5   │ Anguilla                           │ 531.389       │\n",
       "│ 6   │ Antigua and Barbuda                │ 12267.0       │\n",
       "│ 7   │ Argentina                          │ 6.14297e6     │\n",
       "│ 8   │ Armenia                            │ 4.88083e5     │\n",
       "│ 9   │ Aruba                              │ 11453.7       │\n",
       "│ 10  │ Australia                          │ 1.4195e7      │\n",
       "⋮\n",
       "│ 202 │ Uruguay                            │ 2.56908e5     │\n",
       "│ 203 │ Uzbekistan                         │ 4.65938e6     │\n",
       "│ 204 │ Vanuatu                            │ 2974.49       │\n",
       "│ 205 │ Venezuela (Bolivarian Republic of) │ 5.77563e6     │\n",
       "│ 206 │ Viet Nam                           │ 2.86214e6     │\n",
       "│ 207 │ Virgin Islands (British)           │ 2255.29       │\n",
       "│ 208 │ Western Sahara                     │ 4200.01       │\n",
       "│ 209 │ World                              │ 1.15093e9     │\n",
       "│ 210 │ Yemen                              │ 5.65321e5     │\n",
       "│ 211 │ Zambia                             │ 1.46156e5     │\n",
       "│ 212 │ Zimbabwe                           │ 5.59032e5     │"
      ]
     },
     "execution_count": 3,
     "metadata": {},
     "output_type": "execute_result"
    }
   ],
   "source": [
    "df_g = by(df, :Name, :Emissions => sum)"
   ]
  },
  {
   "cell_type": "code",
   "execution_count": 4,
   "metadata": {},
   "outputs": [
    {
     "data": {
      "text/html": [
       "<table class=\"data-frame\"><thead><tr><th></th><th>Code</th><th>Name</th><th>Sector</th><th>Year</th><th>Emissions</th><th>Bad</th><th>Emissions_sum</th></tr><tr><th></th><th>String</th><th>String</th><th>String</th><th>Int64</th><th>Float64</th><th>Bool</th><th>Float64</th></tr></thead><tbody><p>48,598 rows × 7 columns</p><tr><th>1</th><td>AFG</td><td>Afghanistan</td><td>Transport</td><td>1970</td><td>503.471</td><td>false</td><td>1.53312e5</td></tr><tr><th>2</th><td>AFG</td><td>Afghanistan</td><td>Other industrial combustion</td><td>1970</td><td>128.944</td><td>false</td><td>1.53312e5</td></tr><tr><th>3</th><td>AFG</td><td>Afghanistan</td><td>Buildings</td><td>1970</td><td>641.589</td><td>false</td><td>1.53312e5</td></tr><tr><th>4</th><td>AFG</td><td>Afghanistan</td><td>Non-combustion</td><td>1970</td><td>457.826</td><td>false</td><td>1.53312e5</td></tr><tr><th>5</th><td>AFG</td><td>Afghanistan</td><td>Power Industry</td><td>1970</td><td>10.4453</td><td>false</td><td>1.53312e5</td></tr><tr><th>6</th><td>ALB</td><td>Albania</td><td>Transport</td><td>1970</td><td>726.045</td><td>false</td><td>2.2831e5</td></tr><tr><th>7</th><td>ALB</td><td>Albania</td><td>Other industrial combustion</td><td>1970</td><td>1472.33</td><td>false</td><td>2.2831e5</td></tr><tr><th>8</th><td>ALB</td><td>Albania</td><td>Buildings</td><td>1970</td><td>992.68</td><td>false</td><td>2.2831e5</td></tr><tr><th>9</th><td>ALB</td><td>Albania</td><td>Non-combustion</td><td>1970</td><td>545.125</td><td>false</td><td>2.2831e5</td></tr><tr><th>10</th><td>ALB</td><td>Albania</td><td>Power Industry</td><td>1970</td><td>698.291</td><td>false</td><td>2.2831e5</td></tr><tr><th>11</th><td>DZA</td><td>Algeria</td><td>Non-combustion</td><td>1970</td><td>9035.82</td><td>false</td><td>3.64081e6</td></tr><tr><th>12</th><td>DZA</td><td>Algeria</td><td>Transport</td><td>1970</td><td>2661.08</td><td>false</td><td>3.64081e6</td></tr><tr><th>13</th><td>DZA</td><td>Algeria</td><td>Other industrial combustion</td><td>1970</td><td>2476.46</td><td>false</td><td>3.64081e6</td></tr><tr><th>14</th><td>DZA</td><td>Algeria</td><td>Power Industry</td><td>1970</td><td>1645.87</td><td>false</td><td>3.64081e6</td></tr><tr><th>15</th><td>DZA</td><td>Algeria</td><td>Buildings</td><td>1970</td><td>1811.36</td><td>false</td><td>3.64081e6</td></tr><tr><th>16</th><td>AGO</td><td>Angola</td><td>Non-combustion</td><td>1970</td><td>6460.93</td><td>false</td><td>697696.0</td></tr><tr><th>17</th><td>AGO</td><td>Angola</td><td>Transport</td><td>1970</td><td>1026.25</td><td>false</td><td>697696.0</td></tr><tr><th>18</th><td>AGO</td><td>Angola</td><td>Other industrial combustion</td><td>1970</td><td>333.76</td><td>false</td><td>697696.0</td></tr><tr><th>19</th><td>AGO</td><td>Angola</td><td>Buildings</td><td>1970</td><td>120.17</td><td>false</td><td>697696.0</td></tr><tr><th>20</th><td>AGO</td><td>Angola</td><td>Power Industry</td><td>1970</td><td>137.546</td><td>false</td><td>697696.0</td></tr><tr><th>21</th><td>AIA</td><td>Anguilla</td><td>Transport</td><td>1970</td><td>1.61843</td><td>false</td><td>531.389</td></tr><tr><th>22</th><td>AIA</td><td>Anguilla</td><td>Other industrial combustion</td><td>1970</td><td>0.108991</td><td>false</td><td>531.389</td></tr><tr><th>23</th><td>AIA</td><td>Anguilla</td><td>Power Industry</td><td>1970</td><td>0.42995</td><td>false</td><td>531.389</td></tr><tr><th>24</th><td>AIA</td><td>Anguilla</td><td>Non-combustion</td><td>1970</td><td>0.0</td><td>false</td><td>531.389</td></tr><tr><th>25</th><td>AIA</td><td>Anguilla</td><td>Buildings</td><td>1970</td><td>0.010636</td><td>false</td><td>531.389</td></tr><tr><th>26</th><td>ATG</td><td>Antigua and Barbuda</td><td>Power Industry</td><td>1970</td><td>51.4055</td><td>false</td><td>12267.0</td></tr><tr><th>27</th><td>ATG</td><td>Antigua and Barbuda</td><td>Buildings</td><td>1970</td><td>88.5346</td><td>false</td><td>12267.0</td></tr><tr><th>28</th><td>ATG</td><td>Antigua and Barbuda</td><td>Transport</td><td>1970</td><td>6.08049</td><td>false</td><td>12267.0</td></tr><tr><th>29</th><td>ATG</td><td>Antigua and Barbuda</td><td>Other industrial combustion</td><td>1970</td><td>1.03064</td><td>false</td><td>12267.0</td></tr><tr><th>30</th><td>ATG</td><td>Antigua and Barbuda</td><td>Non-combustion</td><td>1970</td><td>0.514528</td><td>false</td><td>12267.0</td></tr><tr><th>&vellip;</th><td>&vellip;</td><td>&vellip;</td><td>&vellip;</td><td>&vellip;</td><td>&vellip;</td><td>&vellip;</td><td>&vellip;</td></tr></tbody></table>"
      ],
      "text/latex": [
       "\\begin{tabular}{r|ccccccc}\n",
       "\t& Code & Name & Sector & Year & Emissions & Bad & Emissions\\_sum\\\\\n",
       "\t\\hline\n",
       "\t& String & String & String & Int64 & Float64 & Bool & Float64\\\\\n",
       "\t\\hline\n",
       "\t1 & AFG & Afghanistan & Transport & 1970 & 503.471 & false & 1.53312e5 \\\\\n",
       "\t2 & AFG & Afghanistan & Other industrial combustion & 1970 & 128.944 & false & 1.53312e5 \\\\\n",
       "\t3 & AFG & Afghanistan & Buildings & 1970 & 641.589 & false & 1.53312e5 \\\\\n",
       "\t4 & AFG & Afghanistan & Non-combustion & 1970 & 457.826 & false & 1.53312e5 \\\\\n",
       "\t5 & AFG & Afghanistan & Power Industry & 1970 & 10.4453 & false & 1.53312e5 \\\\\n",
       "\t6 & ALB & Albania & Transport & 1970 & 726.045 & false & 2.2831e5 \\\\\n",
       "\t7 & ALB & Albania & Other industrial combustion & 1970 & 1472.33 & false & 2.2831e5 \\\\\n",
       "\t8 & ALB & Albania & Buildings & 1970 & 992.68 & false & 2.2831e5 \\\\\n",
       "\t9 & ALB & Albania & Non-combustion & 1970 & 545.125 & false & 2.2831e5 \\\\\n",
       "\t10 & ALB & Albania & Power Industry & 1970 & 698.291 & false & 2.2831e5 \\\\\n",
       "\t11 & DZA & Algeria & Non-combustion & 1970 & 9035.82 & false & 3.64081e6 \\\\\n",
       "\t12 & DZA & Algeria & Transport & 1970 & 2661.08 & false & 3.64081e6 \\\\\n",
       "\t13 & DZA & Algeria & Other industrial combustion & 1970 & 2476.46 & false & 3.64081e6 \\\\\n",
       "\t14 & DZA & Algeria & Power Industry & 1970 & 1645.87 & false & 3.64081e6 \\\\\n",
       "\t15 & DZA & Algeria & Buildings & 1970 & 1811.36 & false & 3.64081e6 \\\\\n",
       "\t16 & AGO & Angola & Non-combustion & 1970 & 6460.93 & false & 697696.0 \\\\\n",
       "\t17 & AGO & Angola & Transport & 1970 & 1026.25 & false & 697696.0 \\\\\n",
       "\t18 & AGO & Angola & Other industrial combustion & 1970 & 333.76 & false & 697696.0 \\\\\n",
       "\t19 & AGO & Angola & Buildings & 1970 & 120.17 & false & 697696.0 \\\\\n",
       "\t20 & AGO & Angola & Power Industry & 1970 & 137.546 & false & 697696.0 \\\\\n",
       "\t21 & AIA & Anguilla & Transport & 1970 & 1.61843 & false & 531.389 \\\\\n",
       "\t22 & AIA & Anguilla & Other industrial combustion & 1970 & 0.108991 & false & 531.389 \\\\\n",
       "\t23 & AIA & Anguilla & Power Industry & 1970 & 0.42995 & false & 531.389 \\\\\n",
       "\t24 & AIA & Anguilla & Non-combustion & 1970 & 0.0 & false & 531.389 \\\\\n",
       "\t25 & AIA & Anguilla & Buildings & 1970 & 0.010636 & false & 531.389 \\\\\n",
       "\t26 & ATG & Antigua and Barbuda & Power Industry & 1970 & 51.4055 & false & 12267.0 \\\\\n",
       "\t27 & ATG & Antigua and Barbuda & Buildings & 1970 & 88.5346 & false & 12267.0 \\\\\n",
       "\t28 & ATG & Antigua and Barbuda & Transport & 1970 & 6.08049 & false & 12267.0 \\\\\n",
       "\t29 & ATG & Antigua and Barbuda & Other industrial combustion & 1970 & 1.03064 & false & 12267.0 \\\\\n",
       "\t30 & ATG & Antigua and Barbuda & Non-combustion & 1970 & 0.514528 & false & 12267.0 \\\\\n",
       "\t$\\dots$ & $\\dots$ & $\\dots$ & $\\dots$ & $\\dots$ & $\\dots$ & $\\dots$ & $\\dots$ \\\\\n",
       "\\end{tabular}\n"
      ],
      "text/plain": [
       "48598×7 DataFrame. Omitted printing of 3 columns\n",
       "│ Row   │ Code   │ Name        │ Sector                      │ Year  │\n",
       "│       │ \u001b[90mString\u001b[39m │ \u001b[90mString\u001b[39m      │ \u001b[90mString\u001b[39m                      │ \u001b[90mInt64\u001b[39m │\n",
       "├───────┼────────┼─────────────┼─────────────────────────────┼───────┤\n",
       "│ 1     │ AFG    │ Afghanistan │ Transport                   │ 1970  │\n",
       "│ 2     │ AFG    │ Afghanistan │ Other industrial combustion │ 1970  │\n",
       "│ 3     │ AFG    │ Afghanistan │ Buildings                   │ 1970  │\n",
       "│ 4     │ AFG    │ Afghanistan │ Non-combustion              │ 1970  │\n",
       "│ 5     │ AFG    │ Afghanistan │ Power Industry              │ 1970  │\n",
       "│ 6     │ ALB    │ Albania     │ Transport                   │ 1970  │\n",
       "│ 7     │ ALB    │ Albania     │ Other industrial combustion │ 1970  │\n",
       "│ 8     │ ALB    │ Albania     │ Buildings                   │ 1970  │\n",
       "│ 9     │ ALB    │ Albania     │ Non-combustion              │ 1970  │\n",
       "│ 10    │ ALB    │ Albania     │ Power Industry              │ 1970  │\n",
       "⋮\n",
       "│ 48588 │ YEM    │ Yemen       │ Non-combustion              │ 2016  │\n",
       "│ 48589 │ ZMB    │ Zambia      │ Other industrial combustion │ 2016  │\n",
       "│ 48590 │ ZMB    │ Zambia      │ Transport                   │ 2016  │\n",
       "│ 48591 │ ZMB    │ Zambia      │ Non-combustion              │ 2016  │\n",
       "│ 48592 │ ZMB    │ Zambia      │ Buildings                   │ 2016  │\n",
       "│ 48593 │ ZMB    │ Zambia      │ Power Industry              │ 2016  │\n",
       "│ 48594 │ ZWE    │ Zimbabwe    │ Power Industry              │ 2016  │\n",
       "│ 48595 │ ZWE    │ Zimbabwe    │ Other industrial combustion │ 2016  │\n",
       "│ 48596 │ ZWE    │ Zimbabwe    │ Buildings                   │ 2016  │\n",
       "│ 48597 │ ZWE    │ Zimbabwe    │ Transport                   │ 2016  │\n",
       "│ 48598 │ ZWE    │ Zimbabwe    │ Non-combustion              │ 2016  │"
      ]
     },
     "execution_count": 4,
     "metadata": {},
     "output_type": "execute_result"
    }
   ],
   "source": [
    "df_result = join(df, df_g, on = :Name)"
   ]
  },
  {
   "cell_type": "markdown",
   "metadata": {
    "toc-hr-collapsed": true
   },
   "source": [
    "## Write Feather"
   ]
  },
  {
   "cell_type": "code",
   "execution_count": 5,
   "metadata": {},
   "outputs": [
    {
     "data": {
      "text/plain": [
       "\"data/emissions2.feather\""
      ]
     },
     "execution_count": 5,
     "metadata": {},
     "output_type": "execute_result"
    }
   ],
   "source": [
    "Feather.write(\"data/emissions2.feather\", df_result)"
   ]
  }
 ],
 "metadata": {
  "kernelspec": {
   "display_name": "Julia 1.0.3",
   "language": "julia",
   "name": "julia-1.0"
  },
  "language_info": {
   "file_extension": ".jl",
   "mimetype": "application/julia",
   "name": "julia",
   "version": "1.0.3"
  },
  "toc-showcode": false,
  "toc-showmarkdowntxt": false,
  "toc-showtags": false
 },
 "nbformat": 4,
 "nbformat_minor": 2
}
