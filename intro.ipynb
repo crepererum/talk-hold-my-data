{
 "cells": [
  {
   "cell_type": "markdown",
   "metadata": {
    "toc-hr-collapsed": true
   },
   "source": [
    "<h1 style=\"font-size: 500%;\">Hold My Data</h1>\n",
    "\n",
    "**2019-04-23, Marco Neumann, Python User Group Hamburg**\n",
    "\n",
    "Code at [github.com/crepererum/talk-hold-my-data](https://github.com/crepererum/talk-hold-my-data)"
   ]
  },
  {
   "cell_type": "markdown",
   "metadata": {},
   "source": [
    "<div style=\"height: 200px;\"></div>"
   ]
  },
  {
   "cell_type": "markdown",
   "metadata": {},
   "source": [
    "## About Me\n",
    "\n",
    "<img src=\"img/by.svg\" width=\"400px\" style=\"margin-left: 0;\" />\n",
    "\n",
    "- Marco Neumann\n",
    "- Data Architect Int. at Blue Yonder\n",
    "- @crepererum"
   ]
  },
  {
   "cell_type": "markdown",
   "metadata": {},
   "source": [
    "<div style=\"height: 200px;\"></div>"
   ]
  },
  {
   "cell_type": "markdown",
   "metadata": {},
   "source": [
    "## Join Us\n",
    "\n",
    "<img src=\"img/recruiting.svg\" width=\"800px\" style=\"margin-left: 0;\" />\n",
    "\n",
    "- [Blue Yonder @ Stack Overflow](https://stackoverflow.com/jobs/companies/blue-yonder-gmbh)\n",
    "- Talk to me or send me a mail [marco.neumann@blue-yonder.com](mailto:marco.neumann@blue-yonder.com)\n",
    "- jobs@blue-yonder.com"
   ]
  }
 ],
 "metadata": {
  "kernelspec": {
   "display_name": "",
   "name": ""
  },
  "language_info": {
   "name": ""
  }
 },
 "nbformat": 4,
 "nbformat_minor": 2
}
